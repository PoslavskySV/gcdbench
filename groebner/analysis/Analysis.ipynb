{
 "cells": [
  {
   "cell_type": "markdown",
   "metadata": {},
   "source": [
    "# Groebner bases benchmarks\n",
    "\n",
    "Benchmarks include Katsura & Cyclic systems with characteristic 0 and characteristic 1000003\n",
    "\n",
    "### Software\n",
    "\n",
    "The following software were tested:\n",
    "\n",
    " * Rings v2.3.1 (http://github.com/PoslavskySV/rings)\n",
    " * Singular v4.1.0 (https://www.singular.uni-kl.de)\n",
    " \n",
    "All tests below were executed on MacBook Pro (15-inch, 2017), 3,1 GHz Intel Core i7, 16 GB 2133 MHz LPDDR3, except Cyclic 9 which in case of Rings was executed on Intel(R) Xeon(R) CPU E5-2683 v3 @ 2.00GHz,  512 GB 2133 MHz DIMM Synchronous "
   ]
  },
  {
   "cell_type": "code",
   "execution_count": 4,
   "metadata": {},
   "outputs": [],
   "source": [
    "import pandas as pd\n",
    "import os.path\n",
    "import re"
   ]
  },
  {
   "cell_type": "code",
   "execution_count": 5,
   "metadata": {},
   "outputs": [],
   "source": [
    "results_path = '../results/'"
   ]
  },
  {
   "cell_type": "code",
   "execution_count": 27,
   "metadata": {},
   "outputs": [],
   "source": [
    "def read_result():\n",
    "    data = None\n",
    "    for f in os.listdir(results_path):\n",
    "        df = pd.read_csv(results_path + f, delimiter='\\t')\n",
    "        df['problem'] = '-'.join(f.split('/')[-1].split('_')[0:2])\n",
    "        df['characteristic'] = re.search('char_(([0-9]+?))_', f).group(1)\n",
    "        if data is None:\n",
    "            data = df\n",
    "        else:\n",
    "            data = pd.concat([data, df], verify_integrity=True, ignore_index=True)\n",
    "    # drop not useful columns\n",
    "    data = data.drop(columns = ['problemId', 'Rings_success', 'Mathematica_success', 'Singular_success'])\n",
    "    # transform from nanoseconds to seconds\n",
    "    data[['Rings', 'Mathematica', 'Singular']] = data[['Rings', 'Mathematica', 'Singular']] / 1e9\n",
    "    # pretty view\n",
    "    problem = data.problem\n",
    "    data.drop(labels=['problem', 'success', 'timing'], axis=1, inplace = True)\n",
    "    data.insert(0, 'problem', problem)\n",
    "    \n",
    "    data = data.sort_values('problem')\n",
    "    return data\n",
    "\n",
    "statistics = read_result()"
   ]
  },
  {
   "cell_type": "code",
   "execution_count": 28,
   "metadata": {},
   "outputs": [
    {
     "data": {
      "text/html": [
       "<div>\n",
       "<style scoped>\n",
       "    .dataframe tbody tr th:only-of-type {\n",
       "        vertical-align: middle;\n",
       "    }\n",
       "\n",
       "    .dataframe tbody tr th {\n",
       "        vertical-align: top;\n",
       "    }\n",
       "\n",
       "    .dataframe thead th {\n",
       "        text-align: right;\n",
       "    }\n",
       "</style>\n",
       "<table border=\"1\" class=\"dataframe\">\n",
       "  <thead>\n",
       "    <tr style=\"text-align: right;\">\n",
       "      <th></th>\n",
       "      <th>problem</th>\n",
       "      <th>Mathematica</th>\n",
       "      <th>Rings</th>\n",
       "      <th>Singular</th>\n",
       "      <th>characteristic</th>\n",
       "    </tr>\n",
       "  </thead>\n",
       "  <tbody>\n",
       "    <tr>\n",
       "      <th>21</th>\n",
       "      <td>cyclic-5</td>\n",
       "      <td>NaN</td>\n",
       "      <td>0.169543</td>\n",
       "      <td>0.00</td>\n",
       "      <td>0</td>\n",
       "    </tr>\n",
       "    <tr>\n",
       "      <th>6</th>\n",
       "      <td>cyclic-6</td>\n",
       "      <td>NaN</td>\n",
       "      <td>0.723791</td>\n",
       "      <td>0.08</td>\n",
       "      <td>0</td>\n",
       "    </tr>\n",
       "    <tr>\n",
       "      <th>17</th>\n",
       "      <td>cyclic-7</td>\n",
       "      <td>NaN</td>\n",
       "      <td>NaN</td>\n",
       "      <td>NaN</td>\n",
       "      <td>0</td>\n",
       "    </tr>\n",
       "    <tr>\n",
       "      <th>18</th>\n",
       "      <td>katsura-10</td>\n",
       "      <td>251.473060</td>\n",
       "      <td>1045.821292</td>\n",
       "      <td>124.34</td>\n",
       "      <td>0</td>\n",
       "    </tr>\n",
       "    <tr>\n",
       "      <th>12</th>\n",
       "      <td>katsura-5</td>\n",
       "      <td>0.057122</td>\n",
       "      <td>0.335140</td>\n",
       "      <td>0.02</td>\n",
       "      <td>0</td>\n",
       "    </tr>\n",
       "    <tr>\n",
       "      <th>3</th>\n",
       "      <td>katsura-6</td>\n",
       "      <td>0.476906</td>\n",
       "      <td>0.869015</td>\n",
       "      <td>0.14</td>\n",
       "      <td>0</td>\n",
       "    </tr>\n",
       "    <tr>\n",
       "      <th>7</th>\n",
       "      <td>katsura-7</td>\n",
       "      <td>3.808939</td>\n",
       "      <td>4.800843</td>\n",
       "      <td>1.16</td>\n",
       "      <td>0</td>\n",
       "    </tr>\n",
       "    <tr>\n",
       "      <th>19</th>\n",
       "      <td>katsura-8</td>\n",
       "      <td>27.093189</td>\n",
       "      <td>39.227896</td>\n",
       "      <td>9.77</td>\n",
       "      <td>0</td>\n",
       "    </tr>\n",
       "    <tr>\n",
       "      <th>11</th>\n",
       "      <td>katsura-9</td>\n",
       "      <td>28.949779</td>\n",
       "      <td>40.168515</td>\n",
       "      <td>9.96</td>\n",
       "      <td>0</td>\n",
       "    </tr>\n",
       "  </tbody>\n",
       "</table>\n",
       "</div>"
      ],
      "text/plain": [
       "       problem  Mathematica        Rings  Singular characteristic\n",
       "21    cyclic-5          NaN     0.169543      0.00              0\n",
       "6     cyclic-6          NaN     0.723791      0.08              0\n",
       "17    cyclic-7          NaN          NaN       NaN              0\n",
       "18  katsura-10   251.473060  1045.821292    124.34              0\n",
       "12   katsura-5     0.057122     0.335140      0.02              0\n",
       "3    katsura-6     0.476906     0.869015      0.14              0\n",
       "7    katsura-7     3.808939     4.800843      1.16              0\n",
       "19   katsura-8    27.093189    39.227896      9.77              0\n",
       "11   katsura-9    28.949779    40.168515      9.96              0"
      ]
     },
     "execution_count": 28,
     "metadata": {},
     "output_type": "execute_result"
    }
   ],
   "source": [
    "statistics[statistics.characteristic == '0']"
   ]
  },
  {
   "cell_type": "code",
   "execution_count": 16,
   "metadata": {},
   "outputs": [
    {
     "name": "stdout",
     "output_type": "stream",
     "text": [
      "\\begin{tabular}{lrrrl}\n",
      "\\toprule\n",
      "    problem &  Mathematica &    Rings &  Singular & characteristic \\\\\n",
      "\\midrule\n",
      "   cyclic-5 &          0.0 &      0.1 &       0.0 &        1000003 \\\\\n",
      "   cyclic-5 &          0.0 &      0.2 &       0.0 &              0 \\\\\n",
      "   cyclic-6 &          0.3 &      1.0 &       0.1 &              0 \\\\\n",
      "   cyclic-6 &          0.2 &      0.2 &       0.0 &        1000003 \\\\\n",
      "   cyclic-7 &         26.2 &      3.1 &       NaN &        1000003 \\\\\n",
      "   cyclic-7 &          NaN &      NaN &       NaN &              0 \\\\\n",
      "   cyclic-8 &        897.8 &     51.2 &      39.4 &        1000003 \\\\\n",
      "   cyclic-9 &          NaN &  14603.9 &    8523.4 &        1000003 \\\\\n",
      " katsura-10 &        216.1 &      9.1 &       8.4 &        1000003 \\\\\n",
      " katsura-11 &       2295.0 &     54.9 &      65.3 &        1000003 \\\\\n",
      " katsura-12 &      28234.8 &    363.2 &     677.9 &        1000003 \\\\\n",
      "  katsura-5 &          0.0 &      0.1 &       0.0 &        1000003 \\\\\n",
      "  katsura-6 &          0.3 &      0.2 &       0.0 &        1000003 \\\\\n",
      "  katsura-7 &          2.4 &      0.5 &       0.1 &        1000003 \\\\\n",
      "  katsura-8 &         24.5 &      1.9 &       1.0 &        1000003 \\\\\n",
      "  katsura-9 &         22.0 &      1.9 &       1.0 &        1000003 \\\\\n",
      "\\bottomrule\n",
      "\\end{tabular}\n",
      "\n"
     ]
    }
   ],
   "source": [
    "print(statistics.round(1).to_latex(index=False))"
   ]
  },
  {
   "cell_type": "code",
   "execution_count": null,
   "metadata": {},
   "outputs": [],
   "source": []
  }
 ],
 "metadata": {
  "kernelspec": {
   "display_name": "Python 2",
   "language": "python",
   "name": "python2"
  },
  "language_info": {
   "codemirror_mode": {
    "name": "ipython",
    "version": 2
   },
   "file_extension": ".py",
   "mimetype": "text/x-python",
   "name": "python",
   "nbconvert_exporter": "python",
   "pygments_lexer": "ipython2",
   "version": "2.7.10"
  }
 },
 "nbformat": 4,
 "nbformat_minor": 2
}
